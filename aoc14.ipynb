{
 "cells": [
  {
   "cell_type": "code",
   "execution_count": 51,
   "metadata": {},
   "outputs": [],
   "source": [
    "def new_recipes(*scores):\n",
    "    return list(map(int, list(str(sum(scores)))))"
   ]
  },
  {
   "cell_type": "code",
   "execution_count": 2,
   "metadata": {},
   "outputs": [],
   "source": []
  },
  {
   "cell_type": "code",
   "execution_count": 52,
   "metadata": {},
   "outputs": [
    {
     "name": "stdout",
     "output_type": "stream",
     "text": [
      "[3, 7]\n"
     ]
    },
    {
     "data": {
      "text/plain": [
       "[3, 6, 5, 6, 1, 2, 6, 7, 2, 3]"
      ]
     },
     "execution_count": 52,
     "metadata": {},
     "output_type": "execute_result"
    }
   ],
   "source": [
    "recipes = list(map(int, list(\"37\")))\n",
    "l = len(recipes)\n",
    "elf1 = 0\n",
    "elf2 = 1\n",
    "print(recipes)\n",
    "\n",
    "offset = 880751\n",
    "length = 10\n",
    "target = offset + length\n",
    "while len(recipes) < target:\n",
    "    score1 = recipes[elf1]\n",
    "    score2 = recipes[elf2]\n",
    "    nr = new_recipes(score1, score2)\n",
    "    \n",
    "    recipes += nr\n",
    "    elf1 += (1+score1)\n",
    "    elf1 %= len(recipes)\n",
    "    elf2 += (1+score2)\n",
    "    elf2 %= len(recipes)\n",
    "    \n",
    "\n",
    "#rint(recipes)\n",
    "recipes[offset:offset+length]"
   ]
  },
  {
   "cell_type": "code",
   "execution_count": 50,
   "metadata": {},
   "outputs": [
    {
     "name": "stdout",
     "output_type": "stream",
     "text": [
      "[3, 7]\n",
      "20333868\n"
     ]
    }
   ],
   "source": [
    "recipes = list(map(int, list(\"37\")))\n",
    "print(recipes)\n",
    "\n",
    "target = list(map(int, list(\"880751\")))\n",
    "offset = 880751\n",
    "length = 10\n",
    "#target = offset + length\n",
    "def solve2(recipes, target):\n",
    "    l = len(recipes)\n",
    "    elf1 = 0\n",
    "    elf2 = 1\n",
    "    \n",
    "    i = 0\n",
    "    while i < 100000:\n",
    "        i += 1\n",
    "        #print(recipes, len(recipes))\n",
    "        #print(elf1, elf2)\n",
    "        score1 = recipes[elf1]\n",
    "        score2 = recipes[elf2]\n",
    "        nr = new_recipes(score1, score2)\n",
    "        recipes += nr\n",
    "        nr = len(nr)\n",
    "\n",
    "        for i in range(nr):\n",
    "            window = recipes[-len(target)-i:len(recipes)-i]\n",
    "            if window == target:\n",
    "                return len(recipes) - len(target) - i\n",
    "\n",
    "        elf1 += (1+score1)\n",
    "        elf1 %= len(recipes)\n",
    "        elf2 += (1+score2)\n",
    "        elf2 %= len(recipes)\n",
    "    \n",
    "\n",
    "print(solve2(recipes, target))"
   ]
  }
 ],
 "metadata": {
  "kernelspec": {
   "display_name": "Python 3",
   "language": "python",
   "name": "python3"
  },
  "language_info": {
   "codemirror_mode": {
    "name": "ipython",
    "version": 3
   },
   "file_extension": ".py",
   "mimetype": "text/x-python",
   "name": "python",
   "nbconvert_exporter": "python",
   "pygments_lexer": "ipython3",
   "version": "3.6.5"
  }
 },
 "nbformat": 4,
 "nbformat_minor": 2
}
