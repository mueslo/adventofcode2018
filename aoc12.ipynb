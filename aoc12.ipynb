{
 "cells": [
  {
   "cell_type": "code",
   "execution_count": null,
   "metadata": {},
   "outputs": [],
   "source": [
    "\"...## => #\".split()"
   ]
  },
  {
   "cell_type": "code",
   "execution_count": 9,
   "metadata": {},
   "outputs": [
    {
     "name": "stdout",
     "output_type": "stream",
     "text": [
      "#.#..#..###.###.#..###.#####...########.#...#####...##.#....#.####.#.#..#..#.#..###...#..#.#....##.\n",
      "20 2995;1000 73377;2000 146377;3000 219377;"
     ]
    }
   ],
   "source": [
    "initial_state = \"#.#..#..###.###.#..###.#####...########.#...#####...##.#....#.####.#.#..#..#.#..###...#..#.#....##.\"\n",
    "rules = \"\"\"#.### => .\n",
    "###.# => #\n",
    ".##.. => .\n",
    "..### => .\n",
    "..##. => .\n",
    "##... => #\n",
    "###.. => #\n",
    ".#... => #\n",
    "##..# => #\n",
    "#.... => .\n",
    ".#.#. => .\n",
    "####. => .\n",
    "#.#.. => .\n",
    "#.#.# => .\n",
    "#..## => #\n",
    ".#### => #\n",
    "...## => .\n",
    "#..#. => #\n",
    ".#.## => #\n",
    "..#.# => #\n",
    "##.#. => #\n",
    "#.##. => #\n",
    "##### => .\n",
    "..#.. => #\n",
    "....# => .\n",
    "##.## => .\n",
    ".###. => #\n",
    "..... => .\n",
    "...#. => #\n",
    ".##.# => .\n",
    "#...# => .\n",
    ".#..# => #\"\"\"\n",
    "\n",
    "rules = {rule.split()[0]: rule.split()[2] for rule in rules.split('\\n')}\n",
    "assert len(rules) == 32\n",
    "padding = \"....\"\n",
    "assert rules[\".....\"] == \".\"\n",
    "\n",
    "def apply(rules, state, n=20):\n",
    "    zero_index = 0\n",
    "    for t in range(n):\n",
    "        state = padding + str(state) + padding # pad\n",
    "        new_state = list(state)\n",
    "        zero_index += len(padding)\n",
    "        for i in range(2,len(state)-2):\n",
    "            pattern = state[i-2:i+2+1]\n",
    "            new_state[i] = rules[pattern]\n",
    "        state = \"\".join(new_state)\n",
    "    \n",
    "        if (t+1)%1000 == 0 or t+1 == 20:\n",
    "            n_plants = sum([i-zero_index for i in range(len(state)) if state[i] == '#'])\n",
    "            print(t+1, n_plants, end=';')\n",
    "    \n",
    "    return state, zero_index\n",
    "\n",
    "print(initial_state)\n",
    "state, zero_index = apply(rules, initial_state, 3000)"
   ]
  }
 ],
 "metadata": {
  "kernelspec": {
   "display_name": "Python 3",
   "language": "python",
   "name": "python3"
  },
  "language_info": {
   "codemirror_mode": {
    "name": "ipython",
    "version": 3
   },
   "file_extension": ".py",
   "mimetype": "text/x-python",
   "name": "python",
   "nbconvert_exporter": "python",
   "pygments_lexer": "ipython3",
   "version": "3.6.5"
  }
 },
 "nbformat": 4,
 "nbformat_minor": 2
}
