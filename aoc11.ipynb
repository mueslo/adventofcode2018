{
 "cells": [
  {
   "cell_type": "code",
   "execution_count": 142,
   "metadata": {},
   "outputs": [
    {
     "name": "stdout",
     "output_type": "stream",
     "text": [
      "76 ms ± 396 µs per loop (mean ± std. dev. of 7 runs, 10 loops each)\n",
      "3.08 ms ± 35.3 µs per loop (mean ± std. dev. of 7 runs, 100 loops each)\n",
      "Part 1: ((21, 54), 33)\n"
     ]
    }
   ],
   "source": [
    "import numpy as np\n",
    "import heapq\n",
    "\n",
    "s = 300\n",
    "gridserial = 4455\n",
    "X, Y = np.meshgrid(range(s), range(s), indexing='ij')   \n",
    "\n",
    "def getdigit(number, n):\n",
    "    try:\n",
    "        return int(str(number)[n])\n",
    "    except IndexError:\n",
    "        return 0\n",
    "\n",
    "@np.vectorize\n",
    "def powerlevel(x, y):\n",
    "    return getdigit(((x+10)*y + gridserial)*(x+10),-3) - 5\n",
    "\n",
    "# summed-area table \n",
    "%timeit np.pad(powerlevel(X, Y).cumsum(axis=0).cumsum(axis=1), pad_width=((1, 0,),)*2, mode='constant')  # 75ms\n",
    "sag = np.pad(powerlevel(X, Y).cumsum(axis=0).cumsum(axis=1), pad_width=((1, 0,),)*2, mode='constant')\n",
    "def totpower(x, y, dial=3):\n",
    "    return sag[x, y] - sag[x+dial, y] - sag[x, y+dial] + sag[x+dial, y+dial]\n",
    "\n",
    "\n",
    "def max_total_power(dial):\n",
    "    lim = s-dial+1\n",
    "    pg = totpower(X[:lim, :lim], Y[:lim, :lim], dial)\n",
    "    mpg = np.argmax(pg); mpg = np.unravel_index(mpg, pg.shape)\n",
    "    return mpg, pg[mpg]\n",
    "    \n",
    "%timeit max_total_power(3)  # 3ms\n",
    "print('Part 1:', max_total_power(3))"
   ]
  },
  {
   "cell_type": "code",
   "execution_count": 143,
   "metadata": {},
   "outputs": [
    {
     "name": "stdout",
     "output_type": "stream",
     "text": [
      "319 ms ± 2.42 ms per loop (mean ± std. dev. of 7 runs, 1 loop each)\n",
      "(11, (236, 268), 74)\n"
     ]
    }
   ],
   "source": [
    "# Part 2: brute force of each dial\n",
    "def find_best_dial():\n",
    "    dials = {dial: max_total_power(dial) for dial in range(1, 300+1)}\n",
    "    best = max(dials.items(), key=lambda x: x[1][1])\n",
    "    return best[0], best[1][0], best[1][1]\n",
    "\n",
    "%timeit find_best_dial()  # 320ms\n",
    "print(find_best_dial())"
   ]
  },
  {
   "cell_type": "markdown",
   "metadata": {},
   "source": [
    "However, we can improve on this brute force approach. If the maximum total power at dial size 10 is less than zero, we know that the maximum total power size at integer multiples of 10 will be even lower. Therefore:"
   ]
  },
  {
   "cell_type": "code",
   "execution_count": 140,
   "metadata": {},
   "outputs": [
    {
     "name": "stdout",
     "output_type": "stream",
     "text": [
      "3.09 ms ± 29.7 µs per loop (mean ± std. dev. of 7 runs, 100 loops each)\n",
      "((21, 54), 33)\n",
      "187 ms ± 785 µs per loop (mean ± std. dev. of 7 runs, 10 loops each)\n",
      "(11, (236, 268), 74)\n"
     ]
    }
   ],
   "source": [
    "def find_best_dial2():\n",
    "    no_check = set()\n",
    "    dials = {}\n",
    "    for dial in range(1, 300+1):\n",
    "        if dial in no_check:\n",
    "            #print(\"don't check\", dial)\n",
    "            continue\n",
    "        rv = pl2(dial)\n",
    "        dials[dial] = rv\n",
    "        if rv[1] < 0:\n",
    "            #print(dial)\n",
    "            for mult in range(1, s//dial):\n",
    "                no_check.add(mult*dial)\n",
    "            #print('nocheck', sorted(no_check))\n",
    "            \n",
    "            \n",
    "    best = max(dials.items(), key=lambda x: x[1][1])\n",
    "    return best[0], best[1][0], best[1][1]\n",
    "\n",
    "%timeit find_best_dial()  # 190ms\n",
    "print(find_best_dial())"
   ]
  },
  {
   "cell_type": "markdown",
   "metadata": {},
   "source": [
    "However, we can optimize this further. We can find an upper bound on the maximum power level for a dial size using the following universal inequality:\n",
    "\n",
    "$$ \\mathrm{max}(x + y) \\leq \\mathrm{max}(x) + \\mathrm{max}(y) $$\n",
    "\n",
    "This leads us to\n",
    "\n",
    "$$\\mathrm{max\\_tp}(d) \\leq \\sum_{i \\in T_d} \\mathrm{max\\_tp}(d_i)$$\n",
    "\n",
    "where $\\mathrm{max\\_tp}(d)$ is the maximum power level for a given dial size $d$, and $T_d$ is a square tiling of an integer square with side length $d$, $i$ is a square contained in that tiling, and $d_i$ is its side length.\n",
    "\n",
    "For example, if $d=4$, we could tile this $4 \\times 4$ square into 4 squares of $d_i=2$, i.e. \n",
    "\n",
    "$$\\mathrm{max\\_tp}(4) \\leq 4 \\cdot \\mathrm{max\\_tp}(2)$$.\n",
    "\n",
    "but it could also be tiled into 16 $1 \\times 1$ squares. However, this is less useful since only larger dial sizes will contain lower numbers. As such, this becomes a task of tiling a $d \\times d$ square with the biggest possible squares, i.e. with the least number of squares.\n",
    "\n",
    "For prime number dial sizes, finding this tiling is not straightforward and requires dynamic programming. However, since it can be pre-computed unrelated to the actual input, it can speed up our algorithm significantly."
   ]
  },
  {
   "cell_type": "code",
   "execution_count": 145,
   "metadata": {},
   "outputs": [
    {
     "name": "stdout",
     "output_type": "stream",
     "text": [
      "Counter({1: 1})\n",
      "Counter({1: 4})\n",
      "Counter({1: 5, 2: 1})\n",
      "Counter({2: 4})\n",
      "Counter({1: 4, 2: 3, 3: 1})\n",
      "Counter({1: 10, 5: 3, 6: 1})\n",
      "Counter({1: 30, 15: 3, 16: 1})\n"
     ]
    }
   ],
   "source": [
    "tiling_d = {1: Counter({1: 1}), \n",
    "            2: Counter({1: 4}), \n",
    "            3: Counter({1: 5, 2: 1}),\n",
    "}\n",
    "\n",
    "from collections import Counter\n",
    "\n",
    "def memoize(f):\n",
    "    def helper(x):\n",
    "        if x not in tiling_d:            \n",
    "            tiling_d[x] = f(x)\n",
    "        return tiling_d[x]\n",
    "    return helper\n",
    "\n",
    "@memoize\n",
    "def tiling(d):\n",
    "    try:\n",
    "        return tiling_d[d]\n",
    "    except KeyError:\n",
    "        for d_i in reversed(range(2, d//2 + 1)):\n",
    "            if d % d_i == 0:\n",
    "                if d//d_i == 2:\n",
    "                    return Counter({d_i: 4})\n",
    "                return Counter({d-d_i: 1, d_i: 2*d//d_i - 1})\n",
    "                #print('possible tiling', d-d_i, d_i, 'weight', 2 + 2*(d/d_i-1))\n",
    "                #return n, (n//2,) * 4\n",
    "\n",
    "        # prime tiling (not optimal, but good enough)\n",
    "        return Counter({1: 2*(d//2), d//2: 3, d//2+1: 1})\n",
    "\n",
    "[tiling(i) for i in range(1, 300)]\n",
    "for d in [1,2,3,4,5,11,31]:\n",
    "    print(tiling_d[d])"
   ]
  },
  {
   "cell_type": "code",
   "execution_count": 144,
   "metadata": {},
   "outputs": [
    {
     "name": "stdout",
     "output_type": "stream",
     "text": [
      "128 ms ± 4.17 ms per loop (mean ± std. dev. of 7 runs, 10 loops each)\n"
     ]
    },
    {
     "data": {
      "text/plain": [
       "(11, 74)"
      ]
     },
     "execution_count": 144,
     "metadata": {},
     "output_type": "execute_result"
    }
   ],
   "source": [
    "def upper_bound(d, max_tp):\n",
    "    t = tiling(d)\n",
    "    #print('         ', d, t)\n",
    "    return sum(n_i*max_tp[d_i] for d_i, n_i in t.items())\n",
    "\n",
    "def find_best_dial2():\n",
    "    no_check = set()\n",
    "    best = float(\"-inf\")\n",
    "    max_tp = {1: float(\"inf\")}\n",
    "    for dial in range(1, 300+1):\n",
    "        ub = upper_bound(dial, max_tp)\n",
    "        if ub < best:\n",
    "            #print('skip', dial, 'ub', ub)\n",
    "            max_tp[dial] = ub\n",
    "            continue\n",
    "        #print('noskip',dial, 'ub', ub)\n",
    "        loc, _max_tp = pl2(dial)\n",
    "        #print(dial, \"best:\", _max_tp)\n",
    "        max_tp[dial] = _max_tp\n",
    "        best = max(_max_tp, best)\n",
    "            \n",
    "    best = max(max_tp.items(), key=lambda x: x[1])\n",
    "    return best[0], best[1]\n",
    "\n",
    "%timeit find_best_dial2() # 130 ms, could be improved further with better prime tilings\n",
    "find_best_dial2()"
   ]
  }
 ],
 "metadata": {
  "kernelspec": {
   "display_name": "Python 3",
   "language": "python",
   "name": "python3"
  },
  "language_info": {
   "codemirror_mode": {
    "name": "ipython",
    "version": 3
   },
   "file_extension": ".py",
   "mimetype": "text/x-python",
   "name": "python",
   "nbconvert_exporter": "python",
   "pygments_lexer": "ipython3",
   "version": "3.6.5"
  }
 },
 "nbformat": 4,
 "nbformat_minor": 2
}
