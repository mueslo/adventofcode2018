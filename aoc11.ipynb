{
 "cells": [
  {
   "cell_type": "code",
   "execution_count": 1,
   "metadata": {},
   "outputs": [
    {
     "name": "stdout",
     "output_type": "stream",
     "text": [
      "2.77 ms ± 21.3 µs per loop (mean ± std. dev. of 7 runs, 100 loops each)\n",
      "2.23 ms ± 29.8 µs per loop (mean ± std. dev. of 7 runs, 100 loops each)\n",
      "3.15 ms ± 97.8 µs per loop (mean ± std. dev. of 7 runs, 100 loops each)\n",
      "Part 1: ((21, 54), 33)\n"
     ]
    }
   ],
   "source": [
    "import numpy as np\n",
    "\n",
    "s = 300\n",
    "gridserial = 4455\n",
    "X, Y = np.meshgrid(range(s), range(s), indexing='ij')\n",
    "\n",
    "def powerlevel(x, y):\n",
    "    return (((x+10)*y + gridserial)*(x+10) // 100 % 10) - 5\n",
    "\n",
    "%timeit powerlevel(X, Y)  # 3ms\n",
    "grid = powerlevel(X, Y)\n",
    "# summed-area table \n",
    "%timeit np.pad(grid.cumsum(axis=0).cumsum(axis=1), pad_width=((1, 0,),)*2, mode='constant')  # 2ms\n",
    "sag = np.pad(grid.cumsum(axis=0).cumsum(axis=1), pad_width=((1, 0,),)*2, mode='constant')\n",
    "def totpower(x, y, dial=3):\n",
    "    return sag[x, y] - sag[x+dial, y] - sag[x, y+dial] + sag[x+dial, y+dial]\n",
    "\n",
    "\n",
    "def max_total_power(dial):\n",
    "    lim = s-dial+1\n",
    "    pg = totpower(X[:lim, :lim], Y[:lim, :lim], dial)\n",
    "    mpg = np.argmax(pg); mpg = np.unravel_index(mpg, pg.shape)\n",
    "    return mpg, pg[mpg]\n",
    "    \n",
    "%timeit max_total_power(3)  # 3ms\n",
    "print('Part 1:', max_total_power(3))"
   ]
  },
  {
   "cell_type": "code",
   "execution_count": 2,
   "metadata": {},
   "outputs": [
    {
     "name": "stdout",
     "output_type": "stream",
     "text": [
      "321 ms ± 6.69 ms per loop (mean ± std. dev. of 7 runs, 1 loop each)\n",
      "(11, (236, 268), 74)\n"
     ]
    }
   ],
   "source": [
    "# Part 2: brute force of each dial\n",
    "def find_best_dial():\n",
    "    dials = {dial: max_total_power(dial) for dial in range(1, 300+1)}\n",
    "    best = max(dials.items(), key=lambda x: x[1][1])\n",
    "    return best[0], best[1][0], best[1][1]\n",
    "\n",
    "%timeit find_best_dial()  # 320ms\n",
    "print(find_best_dial())"
   ]
  },
  {
   "cell_type": "markdown",
   "metadata": {},
   "source": [
    "However, we can improve on this brute force approach. If the maximum total power at dial size 10 is less than zero, we know that the maximum total power size at integer multiples of 10 will be even lower. Therefore:"
   ]
  },
  {
   "cell_type": "code",
   "execution_count": 3,
   "metadata": {},
   "outputs": [
    {
     "name": "stdout",
     "output_type": "stream",
     "text": [
      "188 ms ± 1.79 ms per loop (mean ± std. dev. of 7 runs, 10 loops each)\n",
      "(11, (236, 268), 74)\n"
     ]
    }
   ],
   "source": [
    "def find_best_dial2():\n",
    "    no_check = set()\n",
    "    dials = {}\n",
    "    for dial in range(1, 300+1):\n",
    "        if dial in no_check:\n",
    "            #print(\"don't check\", dial)\n",
    "            continue\n",
    "        rv = max_total_power(dial)\n",
    "        dials[dial] = rv\n",
    "        if rv[1] < 0:\n",
    "            #print(dial)\n",
    "            for mult in range(1, s//dial):\n",
    "                no_check.add(mult*dial)\n",
    "            #print('nocheck', sorted(no_check))\n",
    "            \n",
    "    best = max(dials.items(), key=lambda x: x[1][1])\n",
    "    return best[0], best[1][0], best[1][1]\n",
    "\n",
    "%timeit find_best_dial2()  # 190ms\n",
    "print(find_best_dial2())"
   ]
  },
  {
   "cell_type": "markdown",
   "metadata": {},
   "source": [
    "However, we can optimize this further. We can find an upper bound on the maximum power level for a dial size using the following universal inequality:\n",
    "\n",
    "$$ \\mathrm{max}(x + y) \\leq \\mathrm{max}(x) + \\mathrm{max}(y) $$\n",
    "\n",
    "This leads us to\n",
    "\n",
    "$$\\mathrm{max\\_tp}(d) \\leq \\sum_{i \\in T_d} \\mathrm{max\\_tp}(d_i)$$\n",
    "\n",
    "where $\\mathrm{max\\_tp}(d)$ is the maximum power level for a given dial size $d$, and $T_d$ is a square tiling of an integer square with side length $d$, $i$ is a square contained in that tiling, and $d_i$ is its side length.\n",
    "\n",
    "For example, if $d=4$, we could tile this $4 \\times 4$ square into 4 squares of $d_i=2$, i.e. \n",
    "\n",
    "$$\\mathrm{max\\_tp}(4) \\leq 4 \\cdot \\mathrm{max\\_tp}(2)$$.\n",
    "\n",
    "but it could also be tiled into 16 $1 \\times 1$ squares. However, this is less useful since only larger dial sizes will contain lower numbers. As such, this becomes a task of tiling a $d \\times d$ square with the largest possible smallest squares, or perhaps with the least number of squares [[1](https://www2.stetson.edu/~efriedma/mathmagic/1298.html)].\n",
    "\n",
    "In general finding this tiling is not straightforward (e.g. prime number dial sizes) and requires integer linear programming [[2](http://www.wm-archive.uni-bayreuth.de/fileadmin/Sascha/Publikationen2/square.pdf)]. However, since it can be pre-computed unrelated to the actual input, it can speed up our algorithm significantly. \n",
    "\n",
    "However, a much simpler approach that works just as well in practice is to simply tile odd-numbered squares into two pairs of squares with sidelengths differing by 1, and an overlap of one square in the middle. Since $0 \\leq \\mathrm{max}(x) - \\mathrm{min}(x)$, we can account for this overlap and have\n",
    "\n",
    "$$\\mathrm{max\\_tp}(2k+1) \\leq 2 \\cdot \\mathrm{max\\_tp}(k+1) + 2 \\cdot \\mathrm{max\\_tp}(k) - \\mathrm{min\\_tp}(1)$$"
   ]
  },
  {
   "cell_type": "code",
   "execution_count": 4,
   "metadata": {},
   "outputs": [
    {
     "name": "stdout",
     "output_type": "stream",
     "text": [
      "118 ms ± 1.18 ms per loop (mean ± std. dev. of 7 runs, 10 loops each)\n"
     ]
    },
    {
     "data": {
      "text/plain": [
       "(11, 74, '83.3% skipped')"
      ]
     },
     "execution_count": 4,
     "metadata": {},
     "output_type": "execute_result"
    }
   ],
   "source": [
    "def upper_bound(d, max_tp, min_p):\n",
    "    if d % 2 == 0:\n",
    "        return 4*max_tp[d//2]\n",
    "    elif d == 1:\n",
    "        return max_tp[1]\n",
    "    else:\n",
    "        return 2*max_tp[d//2 + 1] + 2*max_tp[d//2] - min_p\n",
    "\n",
    "def find_best_dial3():\n",
    "    no_check = set()\n",
    "    best = float(\"-inf\")\n",
    "    max_tp = {1: float(\"inf\")}\n",
    "    min_p = np.min(grid)\n",
    "    skipped = 0\n",
    "    for dial in range(1, 300+1):\n",
    "        ub = upper_bound(dial, max_tp, min_p)\n",
    "        if ub < best:\n",
    "            #print('skip', dial, 'ub', ub)\n",
    "            max_tp[dial] = ub\n",
    "            skipped += 1\n",
    "            continue\n",
    "        #print('noskip',dial, 'ub', ub)\n",
    "        loc, _max_tp = max_total_power(dial)\n",
    "        #print(dial, \"best:\", _max_tp)\n",
    "        max_tp[dial] = _max_tp\n",
    "        best = max(_max_tp, best)\n",
    "            \n",
    "    best = max(max_tp.items(), key=lambda x: x[1])\n",
    "    return best[0], best[1], \"{:.1%} skipped\".format(skipped/300)\n",
    "\n",
    "%timeit find_best_dial3()  # 120ms\n",
    "find_best_dial3()"
   ]
  },
  {
   "cell_type": "code",
   "execution_count": null,
   "metadata": {},
   "outputs": [],
   "source": []
  }
 ],
 "metadata": {
  "kernelspec": {
   "display_name": "Python 3",
   "language": "python",
   "name": "python3"
  },
  "language_info": {
   "codemirror_mode": {
    "name": "ipython",
    "version": 3
   },
   "file_extension": ".py",
   "mimetype": "text/x-python",
   "name": "python",
   "nbconvert_exporter": "python",
   "pygments_lexer": "ipython3",
   "version": "3.6.5"
  }
 },
 "nbformat": 4,
 "nbformat_minor": 2
}
