{
 "cells": [
  {
   "cell_type": "code",
   "execution_count": 45,
   "metadata": {},
   "outputs": [
    {
     "name": "stdout",
     "output_type": "stream",
     "text": [
      "((21, 54), 33)\n",
      "20\n",
      "23\n",
      "24\n",
      "25\n",
      "26\n",
      "27\n",
      "28\n",
      "29\n",
      "30\n",
      "31\n",
      "32\n",
      "33\n",
      "34\n",
      "35\n",
      "36\n",
      "37\n",
      "38\n",
      "39\n",
      "41\n",
      "42\n",
      "(11, (236, 268), 74)\n"
     ]
    }
   ],
   "source": [
    "import numpy as np\n",
    "import heapq\n",
    "\n",
    "s = 300\n",
    "X, Y = np.meshgrid(range(s), range(s), indexing='ij')   \n",
    "\n",
    "def getdigit(number, n):\n",
    "    try:\n",
    "        return int(str(number)[n])\n",
    "    except IndexError:\n",
    "        return 0\n",
    "\n",
    "@np.vectorize\n",
    "def powerlevel(x, y):\n",
    "    return getdigit(((x+10)*y + gridserial)*(x+10),-3) - 5\n",
    "\n",
    "gridserial = 4455\n",
    "#%timeit np.pad(powerlevel(X, Y).cumsum(axis=0).cumsum(axis=1), pad_width=((1, 0,),)*2, mode='constant')\n",
    "sag = np.pad(powerlevel(X, Y).cumsum(axis=0).cumsum(axis=1), pad_width=((1, 0,),)*2, mode='constant')\n",
    " \n",
    "\n",
    "def totpower(x, y, dial=3):\n",
    "    return sag[x, y] - sag[x+dial, y] - sag[x, y+dial] + sag[x+dial, y+dial]\n",
    "\n",
    "\n",
    "def pl2(dial):\n",
    "    lim = s-dial+1\n",
    "    pg = totpower(X[:lim, :lim], Y[:lim, :lim], dial)\n",
    "    mpg = np.argmax(pg); mpg = np.unravel_index(mpg, pg.shape)\n",
    "    return mpg, pg[mpg]\n",
    "    \n",
    "#%timeit pl2(3)\n",
    "print(pl2(3))\n",
    "\n",
    "def find_best_dial():\n",
    "    no_check = set()\n",
    "    dials = {}\n",
    "    for dial in range(1, 300+1):\n",
    "        if dial in no_check:\n",
    "            #print(\"don't check\", dial)\n",
    "            continue\n",
    "        rv = pl2(dial)\n",
    "        dials[dial] = rv\n",
    "        if rv[1] < 0:\n",
    "            print(dial)\n",
    "            add_nocheck = {dial+nc for nc in no_check if not dial+nc>s}\n",
    "            no_check |= add_nocheck\n",
    "            for mult in range(1, s//dial):\n",
    "                no_check.add(mult*dial)\n",
    "            #print('nocheck', sorted(no_check))\n",
    "            \n",
    "            \n",
    "    best = max(dials.items(), key=lambda x: x[1][1])\n",
    "    return best[0], best[1][0], best[1][1]\n",
    "\n",
    "#%timeit find_best_dial()\n",
    "print(find_best_dial())"
   ]
  },
  {
   "cell_type": "code",
   "execution_count": null,
   "metadata": {},
   "outputs": [],
   "source": []
  }
 ],
 "metadata": {
  "kernelspec": {
   "display_name": "Python 3",
   "language": "python",
   "name": "python3"
  },
  "language_info": {
   "codemirror_mode": {
    "name": "ipython",
    "version": 3
   },
   "file_extension": ".py",
   "mimetype": "text/x-python",
   "name": "python",
   "nbconvert_exporter": "python",
   "pygments_lexer": "ipython3",
   "version": "3.6.5"
  }
 },
 "nbformat": 4,
 "nbformat_minor": 2
}
