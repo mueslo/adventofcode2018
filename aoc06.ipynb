{
 "cells": [
  {
   "cell_type": "code",
   "execution_count": 162,
   "metadata": {},
   "outputs": [],
   "source": [
    "input=\"\"\"1, 1\n",
    "1, 6\n",
    "8, 3\n",
    "3, 4\n",
    "5, 5\n",
    "8, 9\"\"\"\n",
    "\n",
    "\n",
    "input=\"\"\"156, 193\n",
    "81, 315\n",
    "50, 197\n",
    "84, 234\n",
    "124, 162\n",
    "339, 345\n",
    "259, 146\n",
    "240, 350\n",
    "97, 310\n",
    "202, 119\n",
    "188, 331\n",
    "199, 211\n",
    "117, 348\n",
    "350, 169\n",
    "131, 355\n",
    "71, 107\n",
    "214, 232\n",
    "312, 282\n",
    "131, 108\n",
    "224, 103\n",
    "83, 122\n",
    "352, 142\n",
    "208, 203\n",
    "319, 217\n",
    "224, 207\n",
    "327, 174\n",
    "89, 332\n",
    "254, 181\n",
    "113, 117\n",
    "120, 161\n",
    "322, 43\n",
    "115, 226\n",
    "324, 222\n",
    "151, 240\n",
    "248, 184\n",
    "207, 136\n",
    "41, 169\n",
    "63, 78\n",
    "286, 43\n",
    "84, 222\n",
    "81, 167\n",
    "128, 192\n",
    "127, 346\n",
    "213, 102\n",
    "313, 319\n",
    "207, 134\n",
    "154, 253\n",
    "50, 313\n",
    "160, 330\n",
    "332, 163\"\"\"\n",
    "\n",
    "import numpy as np\n",
    "def to_coord(line):\n",
    "    return tuple(map(int, line.split(',')))\n",
    "coords = np.array([to_coord(line) for line in input.split(\"\\n\")])\n",
    "#print(coords)"
   ]
  },
  {
   "cell_type": "code",
   "execution_count": 163,
   "metadata": {},
   "outputs": [
    {
     "name": "stdout",
     "output_type": "stream",
     "text": [
      "97656\n"
     ]
    }
   ],
   "source": [
    "axes_ranges = np.stack([np.min(coords, axis=0), np.max(coords, axis=0)])  # [min, max], not [min, max)\n",
    "axes = [np.arange(axis[0], axis[1] + 1) for axis in axes_ranges.T]\n",
    "grid = np.array(np.meshgrid(*axes, indexing='ij')).reshape(len(axes), -1).T  # cartesian product\n",
    "print(len(grid))"
   ]
  },
  {
   "cell_type": "code",
   "execution_count": 164,
   "metadata": {},
   "outputs": [
    {
     "name": "stdout",
     "output_type": "stream",
     "text": [
      "4342\n"
     ]
    }
   ],
   "source": [
    "border_idx = np.any(axes_ranges[:, np.newaxis] == grid, axis=(0, -1))  # indices of arrays\n",
    "\n",
    "from scipy.spatial.distance import cdist\n",
    "dists = cdist(grid, coords, metric='cityblock')\n",
    "min_dists = np.min(dists, axis=1)\n",
    "idx_arr = (min_dists[..., np.newaxis] == dists)\n",
    "\n",
    "not_shared_idx = (np.sum(idx_arr, axis=1) == 1)\n",
    "idx_arr = idx_arr[not_shared_idx]  # remove non-unique distances\n",
    "border_idx = border_idx[not_shared_idx]\n",
    "\n",
    "infinite = np.any(idx_arr[border_idx], axis=0)\n",
    "area = np.sum(idx_arr, axis=0)\n",
    "area[infinite] = -1\n",
    "\n",
    "print(np.max(area))"
   ]
  },
  {
   "cell_type": "code",
   "execution_count": 173,
   "metadata": {},
   "outputs": [
    {
     "data": {
      "text/plain": [
       "42966"
      ]
     },
     "execution_count": 173,
     "metadata": {},
     "output_type": "execute_result"
    }
   ],
   "source": [
    "np.sum(np.sum(dists, axis=1) < 10000)"
   ]
  },
  {
   "cell_type": "code",
   "execution_count": null,
   "metadata": {},
   "outputs": [],
   "source": []
  }
 ],
 "metadata": {
  "kernelspec": {
   "display_name": "Python 3",
   "language": "python",
   "name": "python3"
  },
  "language_info": {
   "codemirror_mode": {
    "name": "ipython",
    "version": 3
   },
   "file_extension": ".py",
   "mimetype": "text/x-python",
   "name": "python",
   "nbconvert_exporter": "python",
   "pygments_lexer": "ipython3",
   "version": "3.6.5"
  }
 },
 "nbformat": 4,
 "nbformat_minor": 2
}
